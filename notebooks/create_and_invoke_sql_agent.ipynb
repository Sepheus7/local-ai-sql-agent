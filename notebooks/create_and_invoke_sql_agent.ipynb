{
 "cells": [
  {
   "cell_type": "markdown",
   "id": "77eec934-a3ec-4afd-84b9-f7c0b3947143",
   "metadata": {},
   "source": [
    "# Create and Invoke Agent via Boto3 SDK\n",
    "\n",
    "> *This notebook should work well with the **`Data Science 3.0`** kernel in SageMaker Studio*"
   ]
  },
  {
   "cell_type": "markdown",
   "id": "020e52a3-d6de-4210-8de2-e825ed1d95e2",
   "metadata": {
    "tags": []
   },
   "source": [
    "## Introduction\n",
    "\n",
    "This notebook demonstrates the usage of the `bedrock-agent` and `bedrock-agent-runtime` boto3 clients to:\n",
    "- Create an agent\n",
    "- Create an action group\n",
    "- Associate the agent with the action group and prepare it for use\n",
    "- Create an agent alias\n",
    "- Invoke the agent\n",
    "\n",
    "We'll be utilizing Bedrock's Claude v3 Sonnet through the Boto3 API.\n",
    "\n",
    "**Note:** *This notebook is designed to be run both within and outside of an AWS environment.*\n",
    "\n",
    "### Prerequisites\n",
    "\n",
    "Ensure you have an AWS account with permissions to:\n",
    "- Create and manage IAM roles and policies\n",
    "- Create and invoke AWS Lambda functions\n",
    "- Create, read from, and write to Amazon S3 buckets\n",
    "- Access and manage Amazon Bedrock agents and models\n",
    "- Create and manage Amazon Glue databases and crawlers\n",
    "- Execute queries and manage Amazon Athena workspaces\n",
    "\n",
    "### Context\n",
    "\n",
    "The following sections guide you through creating and invoking a Bedrock agent using the Boto3 SDK.\n",
    "\n",
    "### Use Case\n",
    "\n",
    "The notebook sets up an agent capable of crafting SQL queries from natural language questions. It then retrieves responses from the database, providing accurate answers to user inquiries. The diagram below outlines the high-level architecture of this solution.\n",
    "\n",
    "![sequence-flow-agent](images/text-to-sql-architecture-Athena.png)\n",
    "\n",
    "The Agent is designed to:\n",
    "- Retrieve database schemas\n",
    "- Execute SQL queries\n"
   ]
  },
  {
   "cell_type": "code",
   "execution_count": 1,
   "id": "5654a5d0",
   "metadata": {},
   "outputs": [],
   "source": [
    "upgrade_output = !pip install --upgrade pip\n",
    "install_boto3_output = !pip install boto3\n",
    "##Ensure your boto3 and botocore libraries are up to date\n",
    "upgrade_output_botocore_boto3= !pip install --upgrade boto3 botocore "
   ]
  },
  {
   "cell_type": "code",
   "execution_count": 75,
   "id": "3d27169c-dd6f-448a-b43e-5055930885c2",
   "metadata": {},
   "outputs": [],
   "source": [
    "from dependencies.config import *"
   ]
  },
  {
   "cell_type": "code",
   "execution_count": 76,
   "id": "4b575b5e-c6d5-424f-9594-4a9473ab7a32",
   "metadata": {
    "tags": []
   },
   "outputs": [
    {
     "name": "stdout",
     "output_type": "stream",
     "text": [
      "[2024-10-27 21:00:30,494] p44054 {credentials.py:1278} INFO - Found credentials in shared credentials file: ~/.aws/credentials\n",
      "TheHistoryOfBaseball\n",
      "AccountID:  842676020002\n",
      "arn:aws:iam::842676020002:user/bedrockfullaccess\n",
      "AWSGlueServiceRole\n",
      "s3://text-2-sql-agent-us-east-1-842676020002/data/TheHistoryofBaseball/\n",
      "unzip_data()... finished\n",
      "upload_data() ... finished\n",
      "aws s3 sync ./data/extracted/ s3://text-2-sql-agent-us-east-1-842676020002/data\n",
      "upload: data/extracted/TheHistoryofBaseball/hall_of_fame/hall_of_fame.csv to s3://text-2-sql-agent-us-east-1-842676020002/data/TheHistoryofBaseball/hall_of_fame/hall_of_fame.csv\n",
      "upload: data/extracted/TheHistoryofBaseball/player_award_vote/player_award_vote.csv to s3://text-2-sql-agent-us-east-1-842676020002/data/TheHistoryofBaseball/player_award_vote/player_award_vote.csv\n",
      "upload: data/extracted/TheHistoryofBaseball/salary/salary.csv to s3://text-2-sql-agent-us-east-1-842676020002/data/TheHistoryofBaseball/salary/salary.csv\n",
      "upload: data/extracted/TheHistoryofBaseball/player/player.csv to s3://text-2-sql-agent-us-east-1-842676020002/data/TheHistoryofBaseball/player/player.csv\n",
      "upload: data/extracted/TheHistoryofBaseball/player_award/player_award.csv to s3://text-2-sql-agent-us-east-1-842676020002/data/TheHistoryofBaseball/player_award/player_award.csv\n",
      "Crawling data source...\n",
      "Crawl should be complete.\n",
      "{'Crawler': {'Classifiers': [],\n",
      "             'Configuration': '{\"Version\":1.0,\"CreatePartitionIndex\":true}',\n",
      "             'CrawlElapsedTime': 0,\n",
      "             'CreationTime': datetime.datetime(2024, 10, 27, 21, 0, 49, tzinfo=tzlocal()),\n",
      "             'DatabaseName': 'thehistoryofbaseball',\n",
      "             'LakeFormationConfiguration': {'AccountId': '',\n",
      "                                            'UseLakeFormationCredentials': False},\n",
      "             'LastUpdated': datetime.datetime(2024, 10, 27, 21, 0, 49, tzinfo=tzlocal()),\n",
      "             'LineageConfiguration': {'CrawlerLineageSettings': 'DISABLE'},\n",
      "             'Name': 'TheHistoryOfBaseball',\n",
      "             'RecrawlPolicy': {'RecrawlBehavior': 'CRAWL_EVERYTHING'},\n",
      "             'Role': 'AWSGlueServiceRole',\n",
      "             'SchemaChangePolicy': {'DeleteBehavior': 'DEPRECATE_IN_DATABASE',\n",
      "                                    'UpdateBehavior': 'UPDATE_IN_DATABASE'},\n",
      "             'State': 'READY',\n",
      "             'Targets': {'CatalogTargets': [],\n",
      "                         'DeltaTargets': [],\n",
      "                         'DynamoDBTargets': [],\n",
      "                         'HudiTargets': [],\n",
      "                         'IcebergTargets': [],\n",
      "                         'JdbcTargets': [],\n",
      "                         'MongoDBTargets': [],\n",
      "                         'S3Targets': [{'Exclusions': [],\n",
      "                                        'Path': 's3://text-2-sql-agent-us-east-1-842676020002/data/TheHistoryofBaseball/'}]},\n",
      "             'Version': 1},\n",
      " 'ResponseMetadata': {'HTTPHeaders': {'connection': 'keep-alive',\n",
      "                                      'content-length': '918',\n",
      "                                      'content-type': 'application/x-amz-json-1.1',\n",
      "                                      'date': 'Sun, 27 Oct 2024 21:00:56 GMT',\n",
      "                                      'x-amzn-requestid': '00569cec-db9c-423e-97ea-53d88fadc2af'},\n",
      "                      'HTTPStatusCode': 200,\n",
      "                      'RequestId': '00569cec-db9c-423e-97ea-53d88fadc2af',\n",
      "                      'RetryAttempts': 0}}\n",
      "Traceback (most recent call last):\n",
      "  File \"/Users/romainboluda/Documents/MLELearning/ai-sql-agent-aws/./dependencies/build_infra.py\", line 340, in <module>\n",
      "    response = bedrock_agent_client.create_agent(\n",
      "               ^^^^^^^^^^^^^^^^^^^^^^^^^^^^^^^^^^\n",
      "  File \"/Users/romainboluda/anaconda3/envs/py311/lib/python3.11/site-packages/botocore/client.py\", line 569, in _api_call\n",
      "    return self._make_api_call(operation_name, kwargs)\n",
      "           ^^^^^^^^^^^^^^^^^^^^^^^^^^^^^^^^^^^^^^^^^^^\n",
      "  File \"/Users/romainboluda/anaconda3/envs/py311/lib/python3.11/site-packages/botocore/client.py\", line 1023, in _make_api_call\n",
      "    raise error_class(parsed_response, operation_name)\n",
      "botocore.errorfactory.ValidationException: An error occurred (ValidationException) when calling the CreateAgent operation: The provided BasePromptTemplate for the PRE_PROCESSING prompt type has failed validation with  the following message: Invalid JSON in the prompt. Check the BasePromptTemplate and retry your request.\n"
     ]
    }
   ],
   "source": [
    "!python ./dependencies/build_infra.py"
   ]
  },
  {
   "cell_type": "code",
   "execution_count": 46,
   "id": "0b5e442a",
   "metadata": {},
   "outputs": [
    {
     "ename": "ValidationException",
     "evalue": "An error occurred (ValidationException) when calling the CreateAgent operation: Your account is not authorized to invoke this API operation for the provided model.",
     "output_type": "error",
     "traceback": [
      "\u001b[0;31m---------------------------------------------------------------------------\u001b[0m",
      "\u001b[0;31mValidationException\u001b[0m                       Traceback (most recent call last)",
      "Cell \u001b[0;32mIn[46], line 17\u001b[0m\n\u001b[1;32m      4\u001b[0m agent_instruction \u001b[38;5;241m=\u001b[39m \u001b[38;5;124m\"\"\"\u001b[39m\u001b[38;5;124mYou are an expert database querying assistant that can create simple and complex SQL queries to get \u001b[39m\n\u001b[1;32m      5\u001b[0m \u001b[38;5;124mthe answers to questions about baseball players that you are asked. You first need to get the schemas for the table in the database to then query the \u001b[39m\n\u001b[1;32m      6\u001b[0m \u001b[38;5;124mdatabase tables using a sql statement then respond to the user with the answer to their question and\u001b[39m\n\u001b[0;32m   (...)\u001b[0m\n\u001b[1;32m      9\u001b[0m \u001b[38;5;124mHere is an example to query the table <example>SELECT * FROM thehistoryofbaseball.players LIMIT 10;</example> Do not use \u001b[39m\n\u001b[1;32m     10\u001b[0m \u001b[38;5;124mquotes for the table name. Your final answer should be in plain english.\u001b[39m\u001b[38;5;124m\"\"\"\u001b[39m\n\u001b[1;32m     13\u001b[0m \u001b[38;5;66;03m##PLEASE Note\u001b[39;00m\n\u001b[1;32m     14\u001b[0m \u001b[38;5;66;03m###Disabling pre-processing can enhance the agent's response time, however, it may increase the risk of inaccuracies in SQL query generation or some sql ingestion. Careful consideration is advised when toggling this feature based on your use case requirements.\u001b[39;00m\n\u001b[0;32m---> 17\u001b[0m response \u001b[38;5;241m=\u001b[39m bedrock_agent_client\u001b[38;5;241m.\u001b[39mcreate_agent(\n\u001b[1;32m     18\u001b[0m     agentName\u001b[38;5;241m=\u001b[39magent_name,\n\u001b[1;32m     19\u001b[0m     agentResourceRoleArn\u001b[38;5;241m=\u001b[39magent_role[\u001b[38;5;124m'\u001b[39m\u001b[38;5;124mRole\u001b[39m\u001b[38;5;124m'\u001b[39m][\u001b[38;5;124m'\u001b[39m\u001b[38;5;124mArn\u001b[39m\u001b[38;5;124m'\u001b[39m],\n\u001b[1;32m     20\u001b[0m     description\u001b[38;5;241m=\u001b[39m\u001b[38;5;124m\"\u001b[39m\u001b[38;5;124mAgent for performing sql queries.\u001b[39m\u001b[38;5;124m\"\u001b[39m,\n\u001b[1;32m     21\u001b[0m     idleSessionTTLInSeconds\u001b[38;5;241m=\u001b[39midleSessionTTLInSeconds,\n\u001b[1;32m     22\u001b[0m     foundationModel\u001b[38;5;241m=\u001b[39mfoundation_Model,\n\u001b[1;32m     23\u001b[0m     instruction\u001b[38;5;241m=\u001b[39magent_instruction,\n\u001b[1;32m     24\u001b[0m     promptOverrideConfiguration\u001b[38;5;241m=\u001b[39m{\n\u001b[1;32m     25\u001b[0m     \u001b[38;5;66;03m#Disable preprocessing prompt\u001b[39;00m\n\u001b[1;32m     26\u001b[0m         \u001b[38;5;124m'\u001b[39m\u001b[38;5;124mpromptConfigurations\u001b[39m\u001b[38;5;124m'\u001b[39m: [\n\u001b[1;32m     27\u001b[0m             {\n\u001b[1;32m     28\u001b[0m                 \u001b[38;5;124m'\u001b[39m\u001b[38;5;124mpromptType\u001b[39m\u001b[38;5;124m'\u001b[39m: \u001b[38;5;124m'\u001b[39m\u001b[38;5;124mPRE_PROCESSING\u001b[39m\u001b[38;5;124m'\u001b[39m,\n\u001b[1;32m     29\u001b[0m                 \u001b[38;5;124m'\u001b[39m\u001b[38;5;124mpromptCreationMode\u001b[39m\u001b[38;5;124m'\u001b[39m: \u001b[38;5;124m'\u001b[39m\u001b[38;5;124mOVERRIDDEN\u001b[39m\u001b[38;5;124m'\u001b[39m,\n\u001b[1;32m     30\u001b[0m                 \u001b[38;5;124m'\u001b[39m\u001b[38;5;124mpromptState\u001b[39m\u001b[38;5;124m'\u001b[39m: \u001b[38;5;124m'\u001b[39m\u001b[38;5;124mDISABLED\u001b[39m\u001b[38;5;124m'\u001b[39m,\n\u001b[1;32m     31\u001b[0m                 \u001b[38;5;124m'\u001b[39m\u001b[38;5;124mbasePromptTemplate\u001b[39m\u001b[38;5;124m'\u001b[39m:\u001b[38;5;124m'\u001b[39m\u001b[38;5;124m \u001b[39m\u001b[38;5;124m'\u001b[39m,\n\u001b[1;32m     32\u001b[0m                  \u001b[38;5;124m'\u001b[39m\u001b[38;5;124minferenceConfiguration\u001b[39m\u001b[38;5;124m'\u001b[39m: {\n\u001b[1;32m     33\u001b[0m                     \u001b[38;5;124m'\u001b[39m\u001b[38;5;124mtemperature\u001b[39m\u001b[38;5;124m'\u001b[39m: \u001b[38;5;241m0\u001b[39m,\n\u001b[1;32m     34\u001b[0m                     \u001b[38;5;124m'\u001b[39m\u001b[38;5;124mtopP\u001b[39m\u001b[38;5;124m'\u001b[39m: \u001b[38;5;241m1\u001b[39m,\n\u001b[1;32m     35\u001b[0m                     \u001b[38;5;124m'\u001b[39m\u001b[38;5;124mtopK\u001b[39m\u001b[38;5;124m'\u001b[39m: \u001b[38;5;241m123\u001b[39m,\n\u001b[1;32m     36\u001b[0m                     \u001b[38;5;124m'\u001b[39m\u001b[38;5;124mmaximumLength\u001b[39m\u001b[38;5;124m'\u001b[39m: \u001b[38;5;241m2048\u001b[39m,\n\u001b[1;32m     37\u001b[0m                     \u001b[38;5;124m'\u001b[39m\u001b[38;5;124mstopSequences\u001b[39m\u001b[38;5;124m'\u001b[39m: [\n\u001b[1;32m     38\u001b[0m                         \u001b[38;5;124m'\u001b[39m\u001b[38;5;124mHuman\u001b[39m\u001b[38;5;124m'\u001b[39m,\n\u001b[1;32m     39\u001b[0m                     ]\n\u001b[1;32m     40\u001b[0m                 },\n\u001b[1;32m     41\u001b[0m                 \n\u001b[1;32m     42\u001b[0m             }\n\u001b[1;32m     43\u001b[0m         ]\n\u001b[1;32m     44\u001b[0m     }\n\u001b[1;32m     45\u001b[0m )\n\u001b[1;32m     49\u001b[0m \u001b[38;5;66;03m# Looking at the created agent, we can see its status and agent id\u001b[39;00m\n\u001b[1;32m     50\u001b[0m \n\u001b[1;32m     51\u001b[0m \n\u001b[0;32m   (...)\u001b[0m\n\u001b[1;32m     55\u001b[0m \n\u001b[1;32m     56\u001b[0m \u001b[38;5;66;03m# Let's now store the agent id in a local variable to use it on the next steps\u001b[39;00m\n\u001b[1;32m     61\u001b[0m agent_id \u001b[38;5;241m=\u001b[39m response[\u001b[38;5;124m'\u001b[39m\u001b[38;5;124magent\u001b[39m\u001b[38;5;124m'\u001b[39m][\u001b[38;5;124m'\u001b[39m\u001b[38;5;124magentId\u001b[39m\u001b[38;5;124m'\u001b[39m]\n",
      "File \u001b[0;32m~/anaconda3/envs/py311/lib/python3.11/site-packages/botocore/client.py:569\u001b[0m, in \u001b[0;36mClientCreator._create_api_method.<locals>._api_call\u001b[0;34m(self, *args, **kwargs)\u001b[0m\n\u001b[1;32m    565\u001b[0m     \u001b[38;5;28;01mraise\u001b[39;00m \u001b[38;5;167;01mTypeError\u001b[39;00m(\n\u001b[1;32m    566\u001b[0m         \u001b[38;5;124mf\u001b[39m\u001b[38;5;124m\"\u001b[39m\u001b[38;5;132;01m{\u001b[39;00mpy_operation_name\u001b[38;5;132;01m}\u001b[39;00m\u001b[38;5;124m() only accepts keyword arguments.\u001b[39m\u001b[38;5;124m\"\u001b[39m\n\u001b[1;32m    567\u001b[0m     )\n\u001b[1;32m    568\u001b[0m \u001b[38;5;66;03m# The \"self\" in this scope is referring to the BaseClient.\u001b[39;00m\n\u001b[0;32m--> 569\u001b[0m \u001b[38;5;28;01mreturn\u001b[39;00m \u001b[38;5;28mself\u001b[39m\u001b[38;5;241m.\u001b[39m_make_api_call(operation_name, kwargs)\n",
      "File \u001b[0;32m~/anaconda3/envs/py311/lib/python3.11/site-packages/botocore/client.py:1023\u001b[0m, in \u001b[0;36mBaseClient._make_api_call\u001b[0;34m(self, operation_name, api_params)\u001b[0m\n\u001b[1;32m   1019\u001b[0m     error_code \u001b[38;5;241m=\u001b[39m error_info\u001b[38;5;241m.\u001b[39mget(\u001b[38;5;124m\"\u001b[39m\u001b[38;5;124mQueryErrorCode\u001b[39m\u001b[38;5;124m\"\u001b[39m) \u001b[38;5;129;01mor\u001b[39;00m error_info\u001b[38;5;241m.\u001b[39mget(\n\u001b[1;32m   1020\u001b[0m         \u001b[38;5;124m\"\u001b[39m\u001b[38;5;124mCode\u001b[39m\u001b[38;5;124m\"\u001b[39m\n\u001b[1;32m   1021\u001b[0m     )\n\u001b[1;32m   1022\u001b[0m     error_class \u001b[38;5;241m=\u001b[39m \u001b[38;5;28mself\u001b[39m\u001b[38;5;241m.\u001b[39mexceptions\u001b[38;5;241m.\u001b[39mfrom_code(error_code)\n\u001b[0;32m-> 1023\u001b[0m     \u001b[38;5;28;01mraise\u001b[39;00m error_class(parsed_response, operation_name)\n\u001b[1;32m   1024\u001b[0m \u001b[38;5;28;01melse\u001b[39;00m:\n\u001b[1;32m   1025\u001b[0m     \u001b[38;5;28;01mreturn\u001b[39;00m parsed_response\n",
      "\u001b[0;31mValidationException\u001b[0m: An error occurred (ValidationException) when calling the CreateAgent operation: Your account is not authorized to invoke this API operation for the provided model."
     ]
    }
   ],
   "source": [
    "from dependencies.config import *\n",
    "\n",
    "# Create Agent\n",
    "agent_instruction = \"\"\"You are an expert database querying assistant that can create simple and complex SQL queries to get \n",
    "the answers to questions about baseball players that you are asked. You first need to get the schemas for the table in the database to then query the \n",
    "database tables using a sql statement then respond to the user with the answer to their question and\n",
    "the sql statement used to answer the question. Use the getschema tool first to understand the schema\n",
    "of the table then create a sql query to answer the users question.\n",
    "Here is an example to query the table <example>SELECT * FROM thehistoryofbaseball.players LIMIT 10;</example> Do not use \n",
    "quotes for the table name. Your final answer should be in plain english.\"\"\"\n",
    "\n",
    "\n",
    "##PLEASE Note\n",
    "###Disabling pre-processing can enhance the agent's response time, however, it may increase the risk of inaccuracies in SQL query generation or some sql ingestion. Careful consideration is advised when toggling this feature based on your use case requirements.\n",
    "\n",
    "\n",
    "response = bedrock_agent_client.create_agent(\n",
    "    agentName=agent_name,\n",
    "    agentResourceRoleArn=agent_role['Role']['Arn'],\n",
    "    description=\"Agent for performing sql queries.\",\n",
    "    idleSessionTTLInSeconds=idleSessionTTLInSeconds,\n",
    "    foundationModel=foundation_Model,\n",
    "    instruction=agent_instruction,\n",
    "    promptOverrideConfiguration={\n",
    "    #Disable preprocessing prompt\n",
    "        'promptConfigurations': [\n",
    "            {\n",
    "                'promptType': 'PRE_PROCESSING',\n",
    "                'promptCreationMode': 'OVERRIDDEN',\n",
    "                'promptState': 'DISABLED',\n",
    "                'basePromptTemplate':' ',\n",
    "                 'inferenceConfiguration': {\n",
    "                    'temperature': 0,\n",
    "                    'topP': 1,\n",
    "                    'topK': 123,\n",
    "                    'maximumLength': 2048,\n",
    "                    'stopSequences': [\n",
    "                        'Human',\n",
    "                    ]\n",
    "                },\n",
    "                \n",
    "            }\n",
    "        ]\n",
    "    }\n",
    ")\n",
    "    \n"
   ]
  },
  {
   "cell_type": "code",
   "execution_count": 77,
   "id": "fe25b2b5",
   "metadata": {},
   "outputs": [
    {
     "name": "stdout",
     "output_type": "stream",
     "text": [
      "{'ResponseMetadata': {'RequestId': 'b404234e-a6d2-4b2f-aa91-0c2849cf75cc', 'HTTPStatusCode': 202, 'HTTPHeaders': {'date': 'Sun, 27 Oct 2024 21:09:32 GMT', 'content-type': 'application/json', 'content-length': '340', 'connection': 'keep-alive', 'x-amzn-requestid': 'b404234e-a6d2-4b2f-aa91-0c2849cf75cc', 'x-amz-apigw-id': 'AU_R-H55IAMEhlA=', 'x-amzn-trace-id': 'Root=1-671eac0c-45a807b21a6a55e335ba3646'}, 'RetryAttempts': 0}, 'agentAlias': {'agentAliasArn': 'arn:aws:bedrock:us-east-1:842676020002:agent-alias/TISZBE0CSX/TBM0MVRUDC', 'agentAliasId': 'TBM0MVRUDC', 'agentAliasName': 'workshop-alias', 'agentAliasStatus': 'CREATING', 'agentId': 'TISZBE0CSX', 'createdAt': datetime.datetime(2024, 10, 27, 21, 9, 32, 314360, tzinfo=tzutc()), 'routingConfiguration': [{}], 'updatedAt': datetime.datetime(2024, 10, 27, 21, 9, 32, 314360, tzinfo=tzutc())}}\n"
     ]
    }
   ],
   "source": [
    "\n",
    "\n",
    "# Looking at the created agent, we can see its status and agent id\n",
    "\n",
    "\n",
    "\n",
    "\n",
    "\n",
    "\n",
    "# Let's now store the agent id in a local variable to use it on the next steps\n",
    "\n",
    "\n",
    "\n",
    "\n",
    "agent_id = \"TISZBE0CSX\"\n",
    "agent_id\n",
    "\n",
    "\n",
    "# ### Create Agent Action Group\n",
    "# We will now create and agent action group that uses the lambda function and API schema files created before.\n",
    "# The `create_agent_action_group` function provides this functionality. We will use `DRAFT` as the agent version since we haven't yet create an agent version or alias. To inform the agent about the action group functionalities, we will provide an action group description containing the functionalities of the action group.\n",
    "\n",
    "\n",
    "\n",
    "\n",
    "# Pause to make sure agent is created\n",
    "time.sleep(30)\n",
    "# Now, we can configure and create an action group here:\n",
    "agent_action_group_response = bedrock_agent_client.create_agent_action_group(\n",
    "    agentId=agent_id,\n",
    "    agentVersion='DRAFT',\n",
    "    actionGroupExecutor={\n",
    "        'lambda': \"arn:aws:lambda:us-east-1:842676020002:function:text-2-sql-agent-us-east-1-842676020002\"\n",
    "    },\n",
    "    actionGroupName='QueryAthenaActionGroup',\n",
    "    apiSchema={\n",
    "        's3': {\n",
    "            's3BucketName': bucket_name,\n",
    "            's3ObjectKey': bucket_key\n",
    "        }\n",
    "    },\n",
    "    description='Actions for getting the database schema and querying the Athena database'\n",
    ")\n",
    "\n",
    "\n",
    "\n",
    "\n",
    "\n",
    "agent_action_group_response\n",
    "\n",
    "\n",
    "# ### Allowing Agent to invoke Action Group Lambda\n",
    "# Before using our action group, we need to allow our agent to invoke the lambda function associated to the action group. This is done via resource-based policy. Let's add the resource-based policy to the lambda function created\n",
    "\n",
    "\n",
    "\n",
    "\n",
    "# Create allow invoke permission on lambda\n",
    "response = lambda_client.add_permission(\n",
    "    FunctionName=lambda_name,\n",
    "    StatementId='allow_bedrock',\n",
    "    Action='lambda:InvokeFunction',\n",
    "    Principal='bedrock.amazonaws.com',\n",
    "    SourceArn=f\"arn:aws:bedrock:{region}:{account_id}:agent/{agent_id}\",\n",
    ")\n",
    "\n",
    "\n",
    "# ### Preparing Agent\n",
    "# Let's create a DRAFT version of the agent that can be used for internal testing.\n",
    "\n",
    "\n",
    "\n",
    "\n",
    "agent_prepare = bedrock_agent_client.prepare_agent(agentId=agent_id)\n",
    "agent_prepare\n",
    "\n",
    "\n",
    "# ### Create Agent alias\n",
    "# We will now create an alias of the agent that can be used to deploy the agent.\n",
    "\n",
    "\n",
    "\n",
    "\n",
    "# Pause to make sure agent is prepared\n",
    "time.sleep(30)\n",
    "agent_alias = bedrock_agent_client.create_agent_alias(\n",
    "    agentId=agent_id,\n",
    "    agentAliasName=agent_alias_name\n",
    ")\n",
    "\n",
    "\n",
    "\n",
    "\n",
    "# Pause to make sure agent alias is ready\n",
    "time.sleep(30)\n",
    "\n",
    "agent_alias\n",
    "\n",
    "print(agent_alias)\n"
   ]
  },
  {
   "cell_type": "code",
   "execution_count": 78,
   "id": "f97cef60-771d-4c09-8806-511c5a3aab40",
   "metadata": {
    "tags": []
   },
   "outputs": [
    {
     "name": "stdout",
     "output_type": "stream",
     "text": [
      "TISZBE0CSX\n",
      "TBM0MVRUDC\n"
     ]
    }
   ],
   "source": [
    "from dependencies.config import *\n",
    "\n",
    "list_agent=bedrock_agent_client.list_agents()['agentSummaries']\n",
    "#print(list_agent)\n",
    "#print(agent_name)\n",
    "# Search f\n",
    "agent_id = next((agent['agentId'] for agent in list_agent if agent['agentName'] == agent_name), None)\n",
    "\n",
    "print(agent_id)\n",
    "\n",
    "response = bedrock_agent_client.list_agent_aliases(\n",
    "    agentId=agent_id,\n",
    ")\n",
    "response['agentAliasSummaries']\n",
    "agentAliasId=next((agent['agentAliasId'] for agent in response['agentAliasSummaries'] if agent['agentAliasName'] == agent_alias_name), None)\n",
    "agent_alias_id=agentAliasId\n",
    "print(agent_alias_id)"
   ]
  },
  {
   "cell_type": "code",
   "execution_count": 79,
   "id": "6136d453-a2a0-4f29-b53f-eceb4593dc96",
   "metadata": {
    "tags": []
   },
   "outputs": [
    {
     "name": "stderr",
     "output_type": "stream",
     "text": [
      "[2024-10-27 21:10:18,811] p88226 {2468800596.py:20} INFO - None\n"
     ]
    },
    {
     "name": "stdout",
     "output_type": "stream",
     "text": [
      "{'ResponseMetadata': {'HTTPHeaders': {'connection': 'keep-alive',\n",
      "                                      'content-type': 'application/json',\n",
      "                                      'date': 'Sun, 27 Oct 2024 21:10:18 GMT',\n",
      "                                      'transfer-encoding': 'chunked',\n",
      "                                      'x-amz-bedrock-agent-session-id': 'ddc543dc-94a7-11ef-8e96-663f7c7041cd',\n",
      "                                      'x-amzn-bedrock-agent-content-type': 'application/json',\n",
      "                                      'x-amzn-requestid': '10ab9a72-e2df-4cd2-b708-7643dea4a0dc'},\n",
      "                      'HTTPStatusCode': 200,\n",
      "                      'RequestId': '10ab9a72-e2df-4cd2-b708-7643dea4a0dc',\n",
      "                      'RetryAttempts': 0},\n",
      " 'completion': <botocore.eventstream.EventStream object at 0x11d612e90>,\n",
      " 'contentType': 'application/json',\n",
      " 'sessionId': 'ddc543dc-94a7-11ef-8e96-663f7c7041cd'}\n"
     ]
    }
   ],
   "source": [
    "# ### Invoke Agent\n",
    "# Now that we've created the agent, let's use the `bedrock-agent-runtime` client to invoke this agent and perform some tasks.\n",
    "query_to_agent = \"\"\"What was John Denny's salary in 1986?\"\"\"\n",
    "\n",
    "## create a random id for session initiator id\n",
    "session_id:str = str(uuid.uuid1())\n",
    "enable_trace:bool = True\n",
    "end_session:bool = False\n",
    "\n",
    "\n",
    "# invoke the agent API\n",
    "agentResponse = bedrock_agent_runtime_client.invoke_agent(\n",
    "    inputText=query_to_agent,\n",
    "    agentId=agent_id,\n",
    "    agentAliasId=agent_alias_id, \n",
    "    sessionId=session_id,\n",
    "    enableTrace=enable_trace, \n",
    "    endSession= end_session\n",
    ")\n",
    "logger.info(pprint.pprint(agentResponse))"
   ]
  },
  {
   "cell_type": "code",
   "execution_count": 80,
   "id": "2b4fb987-013a-46bd-bd6b-08b783ac2066",
   "metadata": {
    "tags": []
   },
   "outputs": [
    {
     "name": "stderr",
     "output_type": "stream",
     "text": [
      "[2024-10-27 21:10:19,121] p88226 {<timed exec>:11} INFO - {\n",
      "  \"agentAliasId\": \"TBM0MVRUDC\",\n",
      "  \"agentId\": \"TISZBE0CSX\",\n",
      "  \"agentVersion\": \"1\",\n",
      "  \"sessionId\": \"ddc543dc-94a7-11ef-8e96-663f7c7041cd\",\n",
      "  \"trace\": {\n",
      "    \"orchestrationTrace\": {\n",
      "      \"modelInvocationInput\": {\n",
      "        \"inferenceConfiguration\": {\n",
      "          \"maximumLength\": 2048,\n",
      "          \"stopSequences\": [],\n",
      "          \"temperature\": 0.0,\n",
      "          \"topK\": 1,\n",
      "          \"topP\": 1.000000013351432e-10\n",
      "        },\n",
      "        \"text\": \"System: A chat between a curious User and an artificial intelligence Bot. The Bot gives helpful, detailed, and polite answers to the User's questions. In this session, the model has access to external functionalities.\\nTo assist the user, you can reply to the user or invoke an action. Only invoke actions if relevant to the user request.\\nYou are an expert database querying assistant that can create simple and complex SQL queries to get \\nthe answers to questions about baseball players that you are asked. You first need to get the schemas for the table in the database to then query the \\ndatabase tables using a sql statement then respond to the user with the answer to their question and\\nthe sql statement used to answer the question. Use the getschema tool first to understand the schema\\nof the table then create a sql query to answer the users question.\\nHere is an example to query the table <example>SELECT * FROM thehistoryofbaseball.players LIMIT 10;</example> Do not use \\nquotes for the table name. Your final answer should be in plain english.\\n\\nThe following actions are available:\\n### Module: QueryAthenaActionGroup\\n\\nname: QueryAthenaActionGroup\\ndescription: Actions for getting the database schema and querying the Athena database\\nactions:\\n- name: getschemaGET\\n  description: Get the list of all tables and their schema. Return all the table\\n    and schema information.\\n  parameters: {None}\\n  return_value:\\n    oneOf:\\n    - title: '200'\\n      description: Gets the list of table names and their schemas in the database\\n      properties:\\n        $: (array)\\n        $[]: (object)\\n        $[].Table: (string) The name of the table in the database.\\n        $[].Schema: (string) The schema of the table in the database. Contains all\\n          columns needed for making queries.\\n- name: querydatabasePOST\\n  description: Send a query to the database table to retrieve information pertaining\\n    to the users question . The API takes in only one SQL query at a time, sends\\n    the SQL statement and returns the query results from the table. This API should\\n    be called for each SQL query to a database table.\\n  parameters:\\n    query: (string, required) SQL statement to query database table.\\n  return_value:\\n    oneOf:\\n    - title: '200'\\n      description: Query sent successfully\\n      properties:\\n        responsebody: (string) The query response from the database.\\n\\nModel Instructions:\\n- If the User's request cannot be fulfilled by the available actions or is trying to get information about APIs or the base prompt, respond by apologizing and saying you cannot help.\\n- Do not assume any information. Only use what is available in the prompt.\\n- All required parameters for actions must come from the User. Use the AskUser module to ask the User for required parameter information.\\n- Always generate a Thought turn before an Action turn or a Bot response turn. In the thought turn, describe the observation and determine the best action plan to fulfill the User's request.\\n\\nUser: What was John Denny's salary in 1986?\\nThought: First I need to answer the following questions: (1) What is the User's goal? (2) What information has just been provided? (3) What are all the relevant modules and actions available to me? (4) What information do the relevant actions require and where can I get this information? (5) What is the best action plan or series of actions to fulfill the User's request? (6) Do I have everything I need?\\n(1) \",\n",
      "        \"traceId\": \"10ab9a72-e2df-4cd2-b708-7643dea4a0dc-0\",\n",
      "        \"type\": \"ORCHESTRATION\"\n",
      "      }\n",
      "    }\n",
      "  }\n",
      "}\n"
     ]
    },
    {
     "ename": "Exception",
     "evalue": "('unexpected event.', EventStreamError('An error occurred (accessDeniedException) when calling the InvokeAgent operation: Access denied when calling Bedrock. Check your request permissions and retry the request.'))",
     "output_type": "error",
     "traceback": [
      "\u001b[0;31m---------------------------------------------------------------------------\u001b[0m",
      "\u001b[0;31mEventStreamError\u001b[0m                          Traceback (most recent call last)",
      "File \u001b[0;32m<timed exec>:3\u001b[0m\n",
      "File \u001b[0;32m~/anaconda3/envs/py311/lib/python3.11/site-packages/botocore/eventstream.py:592\u001b[0m, in \u001b[0;36mEventStream.__iter__\u001b[0;34m(self)\u001b[0m\n\u001b[1;32m    591\u001b[0m \u001b[38;5;28;01mfor\u001b[39;00m event \u001b[38;5;129;01min\u001b[39;00m \u001b[38;5;28mself\u001b[39m\u001b[38;5;241m.\u001b[39m_event_generator:\n\u001b[0;32m--> 592\u001b[0m     parsed_event \u001b[38;5;241m=\u001b[39m \u001b[38;5;28mself\u001b[39m\u001b[38;5;241m.\u001b[39m_parse_event(event)\n\u001b[1;32m    593\u001b[0m     \u001b[38;5;28;01mif\u001b[39;00m parsed_event:\n",
      "File \u001b[0;32m~/anaconda3/envs/py311/lib/python3.11/site-packages/botocore/eventstream.py:608\u001b[0m, in \u001b[0;36mEventStream._parse_event\u001b[0;34m(self, event)\u001b[0m\n\u001b[1;32m    607\u001b[0m \u001b[38;5;28;01melse\u001b[39;00m:\n\u001b[0;32m--> 608\u001b[0m     \u001b[38;5;28;01mraise\u001b[39;00m EventStreamError(parsed_response, \u001b[38;5;28mself\u001b[39m\u001b[38;5;241m.\u001b[39m_operation_name)\n",
      "\u001b[0;31mEventStreamError\u001b[0m: An error occurred (accessDeniedException) when calling the InvokeAgent operation: Access denied when calling Bedrock. Check your request permissions and retry the request.",
      "\nDuring handling of the above exception, another exception occurred:\n",
      "\u001b[0;31mException\u001b[0m                                 Traceback (most recent call last)",
      "File \u001b[0;32m<timed exec>:15\u001b[0m\n",
      "\u001b[0;31mException\u001b[0m: ('unexpected event.', EventStreamError('An error occurred (accessDeniedException) when calling the InvokeAgent operation: Access denied when calling Bedrock. Check your request permissions and retry the request.'))"
     ]
    }
   ],
   "source": [
    "%%time\n",
    "event_stream = agentResponse['completion']\n",
    "try:\n",
    "    for event in event_stream:        \n",
    "        if 'chunk' in event:\n",
    "            data = event['chunk']['bytes']\n",
    "            logger.info(f\"Final answer ->\\n{data.decode('utf8')}\")\n",
    "            agent_answer = data.decode('utf8')\n",
    "            end_event_received = True\n",
    "            # End event indicates that the request finished successfully\n",
    "        elif 'trace' in event:\n",
    "            logger.info(json.dumps(event['trace'], indent=2))\n",
    "        else:\n",
    "            raise Exception(\"unexpected event.\", event)\n",
    "except Exception as e:\n",
    "    raise Exception(\"unexpected event.\", e)"
   ]
  },
  {
   "cell_type": "code",
   "execution_count": 59,
   "id": "7516aaf7-0d4d-439e-88c6-537815062302",
   "metadata": {
    "tags": []
   },
   "outputs": [
    {
     "ename": "NameError",
     "evalue": "name 'agent_answer' is not defined",
     "output_type": "error",
     "traceback": [
      "\u001b[0;31m---------------------------------------------------------------------------\u001b[0m",
      "\u001b[0;31mNameError\u001b[0m                                 Traceback (most recent call last)",
      "Cell \u001b[0;32mIn[59], line 2\u001b[0m\n\u001b[1;32m      1\u001b[0m \u001b[38;5;66;03m# And here is the response if you just want to see agent's reply\u001b[39;00m\n\u001b[0;32m----> 2\u001b[0m \u001b[38;5;28mprint\u001b[39m(agent_answer)\n",
      "\u001b[0;31mNameError\u001b[0m: name 'agent_answer' is not defined"
     ]
    }
   ],
   "source": [
    "# And here is the response if you just want to see agent's reply\n",
    "print(agent_answer)"
   ]
  },
  {
   "cell_type": "code",
   "execution_count": null,
   "id": "e96cf44b-08fa-4b8f-9840-57e5a030e37d",
   "metadata": {
    "tags": []
   },
   "outputs": [],
   "source": [
    "#Create function to invoke agent\n",
    "def invoke_agent(query):\n",
    "    ## create a random id for session initiator id\n",
    "    session_id:str = str(uuid.uuid1())\n",
    "    enable_trace:bool = False\n",
    "    end_session:bool = False\n",
    " \n",
    "\n",
    "    # invoke the agent API\n",
    "    agentResponse = bedrock_agent_runtime_client.invoke_agent(\n",
    "        inputText=query,\n",
    "        agentId=agent_id,\n",
    "        agentAliasId=agent_alias_id, \n",
    "        sessionId=session_id,\n",
    "        enableTrace=enable_trace, \n",
    "        endSession= end_session\n",
    "    )\n",
    "    event_stream = agentResponse['completion']\n",
    "    print(\"Fetching answer...\")\n",
    "    try:\n",
    "        for event in event_stream:        \n",
    "            if 'chunk' in event:\n",
    "                data = event['chunk']['bytes']\n",
    "                logger.info(f\"Final answer ->\\n{data.decode('utf8')}\")\n",
    "                agent_answer = data.decode('utf8')\n",
    "                end_event_received = True\n",
    "                # End event indicates that the request finished successfully\n",
    "            elif 'trace' in event:\n",
    "                logger.info(json.dumps(event['trace'], indent=2))\n",
    "            else:\n",
    "                raise Exception(\"unexpected event.\", event)\n",
    "    except Exception as e:\n",
    "        raise Exception(\"unexpected event.\", e)\n",
    "\n"
   ]
  },
  {
   "cell_type": "code",
   "execution_count": null,
   "id": "11f816ea-0380-40de-bec3-c186e67507c9",
   "metadata": {
    "tags": []
   },
   "outputs": [],
   "source": [
    "invoke_agent(\"What year was Nolan Ryan inducted into the Hall of Fame?\")"
   ]
  },
  {
   "cell_type": "code",
   "execution_count": null,
   "id": "a68e09b7-04b3-4312-9e1b-ace0178c09e3",
   "metadata": {
    "tags": []
   },
   "outputs": [],
   "source": [
    "invoke_agent(\"What year was Nolan Ryan inducted into the Hall of Fame?\")\n"
   ]
  },
  {
   "cell_type": "code",
   "execution_count": null,
   "id": "5e3b5713-7027-4f15-b17f-195906e16ad1",
   "metadata": {
    "tags": []
   },
   "outputs": [],
   "source": [
    "invoke_agent(\"In what year did Hank Aaron hit the most home runs?\")\n"
   ]
  },
  {
   "cell_type": "code",
   "execution_count": null,
   "id": "305ca885-4026-459e-9756-0c65fd61a45d",
   "metadata": {
    "tags": []
   },
   "outputs": [],
   "source": [
    "#This query requires a join of two tables to be able to answer the question\n",
    "invoke_agent(\"What player has received the most All-Star Game selections?\")"
   ]
  },
  {
   "cell_type": "code",
   "execution_count": null,
   "id": "b8571be6",
   "metadata": {},
   "outputs": [],
   "source": [
    "#This query should say there is no data available for this year!!\n",
    "invoke_agent(\"What was Babe Ruth's salary in 1930?\")\n"
   ]
  },
  {
   "cell_type": "code",
   "execution_count": null,
   "id": "ed2e9c2a",
   "metadata": {},
   "outputs": [],
   "source": [
    "invoke_agent(\"Who is the richest player in baseball history? \")\n"
   ]
  },
  {
   "cell_type": "code",
   "execution_count": null,
   "id": "e840c555",
   "metadata": {},
   "outputs": [],
   "source": [
    "invoke_agent(\"What was John Denny's salary in 1986? \")\n"
   ]
  },
  {
   "cell_type": "code",
   "execution_count": null,
   "id": "81d4082d-7421-41ed-8a73-5d96954e621d",
   "metadata": {},
   "outputs": [],
   "source": [
    "# This will stop the notebook's execution and wait for the user to press Enter\n",
    "input(\"Press Enter to continue...\")\n"
   ]
  },
  {
   "cell_type": "markdown",
   "id": "f44eeb34-2234-4f64-947c-13435a85dcb9",
   "metadata": {
    "tags": []
   },
   "source": [
    "## Clean up (optional)\n",
    "\n",
    "The next steps are optional and delete the infrustcture we built. \n",
    "\n"
   ]
  },
  {
   "cell_type": "code",
   "execution_count": 81,
   "id": "f88acd54-1ab1-4193-adbe-32bf90dc779e",
   "metadata": {
    "tags": []
   },
   "outputs": [
    {
     "name": "stdout",
     "output_type": "stream",
     "text": [
      "[2024-10-27 21:38:28,931] p51014 {credentials.py:1278} INFO - Found credentials in shared credentials file: ~/.aws/credentials\n",
      "TheHistoryOfBaseball\n",
      "Crawler 'TheHistoryOfBaseball' deleted successfully.\n",
      "Table 'hall_of_fame' deleted successfully.\n",
      "Table 'player' deleted successfully.\n",
      "Table 'player_award' deleted successfully.\n",
      "Table 'player_award_vote' deleted successfully.\n",
      "Table 'salary' deleted successfully.\n",
      "Database 'thehistoryofbaseball' deleted successfully.\n",
      "TISZBE0CSX\n",
      "[{'actionGroupId': '6LWYFGJUZV', 'actionGroupName': 'QueryAthenaActionGroup', 'actionGroupState': 'ENABLED', 'description': 'Actions for getting the database schema and querying the Athena database', 'updatedAt': datetime.datetime(2024, 10, 27, 21, 9, 33, 424151, tzinfo=tzutc())}]\n",
      "6LWYFGJUZV\n",
      "<class 'list'>\n",
      "text-2-sql-agent-us-east-1-842676020002\n",
      "arn:aws:lambda:us-east-1:842676020002:function:text-2-sql-agent-us-east-1-842676020002\n",
      "can not delete\n",
      "Policy 'text-2-sql-agent-allow-us-east-1-842676020002' deleted successfully.\n",
      "Policy 'text-2-sql-agent-s3-allow-us-east-1-842676020002' deleted successfully.\n"
     ]
    }
   ],
   "source": [
    "!python ./dependencies/clean.py"
   ]
  },
  {
   "cell_type": "code",
   "execution_count": 63,
   "id": "82a95959",
   "metadata": {},
   "outputs": [
    {
     "name": "stdout",
     "output_type": "stream",
     "text": [
      "ERROR: Can't invoke 'anthropic.claude-3-sonnet-20240229-v1:0'. Reason: An error occurred (AccessDeniedException) when calling the Converse operation: You don't have access to the model with the specified model ID.\n"
     ]
    }
   ],
   "source": [
    "# Use the Converse API to send a text message to Titan Text G1 - Express.\n",
    "\n",
    "import boto3\n",
    "from botocore.exceptions import ClientError\n",
    "\n",
    "# Create a Bedrock Runtime client in the AWS Region you want to use.\n",
    "client = boto3.client(\"bedrock-runtime\", region_name=\"us-east-1\")\n",
    "\n",
    "# Set the model ID, e.g., Titan Text Premier.\n",
    "model_id = \"anthropic.claude-3-sonnet-20240229-v1:0\"\n",
    "\n",
    "# Start a conversation with the user message.\n",
    "user_message = \"\"\"Meeting transcript: \n",
    "Miguel: Hi Brant, I want to discuss the workstream  for our new product launch \n",
    "Brant: Sure Miguel, is there anything in particular you want to discuss? \n",
    "Miguel: Yes, I want to talk about how users enter into the product. \n",
    "Brant: Ok, in that case let me add in Namita. \n",
    "Namita: Hey everyone \n",
    "Brant: Hi Namita, Miguel wants to discuss how users enter into the product. \n",
    "Miguel: its too complicated and we should remove friction.  for example, why do I need to fill out additional forms?  I also find it difficult to find where to access the product when I first land on the landing page. \n",
    "Brant: I would also add that I think there are too many steps. \n",
    "Namita: Ok, I can work on the landing page to make the product more discoverable but brant can you work on the additonal forms? \n",
    "Brant: Yes but I would need to work with James from another team as he needs to unblock the sign up workflow.  Miguel can you document any other concerns so that I can discuss with James only once? \n",
    "Miguel: Sure. \n",
    "From the meeting transcript above, Create a list of action items for each person. \n",
    "\"\"\"\n",
    "conversation = [\n",
    "    {\n",
    "        \"role\": \"user\",\n",
    "        \"content\": [{\"text\": user_message}],\n",
    "    }\n",
    "]\n",
    "\n",
    "try:\n",
    "    # Send the message to the model, using a basic inference configuration.\n",
    "    response = client.converse(\n",
    "        modelId=\"amazon.titan-text-express-v1\",\n",
    "        messages=conversation,\n",
    "        inferenceConfig={\"maxTokens\":4096,\"stopSequences\":[\"User:\"],\"temperature\":0,\"topP\":1},\n",
    "        additionalModelRequestFields={}\n",
    "    )\n",
    "\n",
    "    # Extract and print the response text.\n",
    "    response_text = response[\"output\"][\"message\"][\"content\"][0][\"text\"]\n",
    "    print(response_text)\n",
    "\n",
    "except (ClientError, Exception) as e:\n",
    "    print(f\"ERROR: Can't invoke '{model_id}'. Reason: {e}\")\n",
    "    exit(1)\n"
   ]
  },
  {
   "cell_type": "markdown",
   "id": "6425ce64-6bad-4500-a535-1035bea7da9d",
   "metadata": {},
   "source": [
    "\n",
    "## Conclusion\n",
    "We have now experimented with using `boto3` SDK to create, invoke and delete an agent.\n",
    "\n",
    "### Take aways\n",
    "- Adapt this notebook to create new agents for your application\n",
    "\n",
    "## Thank You"
   ]
  },
  {
   "cell_type": "code",
   "execution_count": 65,
   "id": "d887b104",
   "metadata": {},
   "outputs": [
    {
     "name": "stderr",
     "output_type": "stream",
     "text": [
      "[2024-10-27 18:56:59,163] p88226 {utils.py:148} INFO - Note: NumExpr detected 10 cores but \"NUMEXPR_MAX_THREADS\" not set, so enforcing safe limit of 8.\n",
      "[2024-10-27 18:56:59,164] p88226 {utils.py:160} INFO - NumExpr defaulting to 8 threads.\n"
     ]
    }
   ],
   "source": [
    "import json\n",
    "import pandas as pd\n",
    "from datetime import datetime, timedelta\n",
    "\n",
    "class DataAnalyticsApp:\n",
    "    def __init__(self):\n",
    "        # Initialize AWS clients\n",
    "        self.bedrock = boto3.client('bedrock-runtime')\n",
    "        self.athena = boto3.client('athena')\n",
    "        \n",
    "    def generate_sql(self, question: str) -> str:\n",
    "        \"\"\"Generate SQL using Amazon Titan (most cost-effective option)\"\"\"\n",
    "        prompt = f\"\"\"You are an expert SQL writer. Convert this question to SQL.\n",
    "        Table: safe_marketing_metrics (\n",
    "            event_date DATE,\n",
    "            platform STRING,\n",
    "            campaign_id STRING,\n",
    "            unique_users INTEGER,\n",
    "            event_count INTEGER\n",
    "        )\n",
    "        Question: {question}\n",
    "        Write only the SQL query, no explanations.\"\"\"\n",
    "        \n",
    "        body = json.dumps({\n",
    "            \"inputText\": prompt,\n",
    "            \"textGenerationConfig\": {\n",
    "                \"maxTokenCount\": 300,\n",
    "                \"temperature\": 0.1,\n",
    "                \"topP\": 0.9\n",
    "            }\n",
    "        })\n",
    "        \n",
    "        response = self.bedrock.invoke_model(\n",
    "            modelId='amazon.titan-text-express-v1',\n",
    "            body=body\n",
    "        )\n",
    "        return json.loads(response['body'].read())['results'][0]['outputText']\n",
    "\n",
    "    def run_query(self, sql: str) -> pd.DataFrame:\n",
    "        \"\"\"Execute Athena query\"\"\"\n",
    "        response = self.athena.start_query_execution(\n",
    "            QueryString=sql,\n",
    "            ResultConfiguration={\n",
    "                'OutputLocation': 's3://athena-query-results-842676020002/query-results/'\n",
    "            }\n",
    "        )\n",
    "        \n",
    "        # Wait for query completion\n",
    "        query_id = response['QueryExecutionId']\n",
    "        while True:\n",
    "            status = self.athena.get_query_execution(QueryExecutionId=query_id)\n",
    "            state = status['QueryExecution']['Status']['State']\n",
    "            if state in ['SUCCEEDED', 'FAILED', 'CANCELLED']:\n",
    "                break\n",
    "            time.sleep(1)\n",
    "            \n",
    "        if state == 'SUCCEEDED':\n",
    "            # Get results\n",
    "            results = self.athena.get_query_results(QueryExecutionId=query_id)\n",
    "            # Convert to DataFrame\n",
    "            columns = [col['Name'] for col in results['ResultSet']['ResultSetMetadata']['ColumnInfo']]\n",
    "            data = []\n",
    "            for row in results['ResultSet']['Rows'][1:]:  # Skip header\n",
    "                data.append([field.get('VarCharValue', '') for field in row['Data']])\n",
    "            return pd.DataFrame(data, columns=columns)\n",
    "        else:\n",
    "            raise Exception(f\"Query failed with state: {state}\")\n"
   ]
  },
  {
   "cell_type": "code",
   "execution_count": 69,
   "id": "8618bb9f",
   "metadata": {},
   "outputs": [
    {
     "name": "stderr",
     "output_type": "stream",
     "text": [
      "2024-10-27 19:02:37.594 WARNING streamlit.runtime.scriptrunner_utils.script_run_context: Thread 'MainThread': missing ScriptRunContext! This warning can be ignored when running in bare mode.\n",
      "2024-10-27 19:02:37.594 WARNING streamlit.runtime.state.session_state_proxy: Session state does not function when running a script without `streamlit run`\n",
      "2024-10-27 19:02:37.632 WARNING streamlit.runtime.scriptrunner_utils.script_run_context: Thread 'MainThread': missing ScriptRunContext! This warning can be ignored when running in bare mode.\n",
      "2024-10-27 19:02:37.633 WARNING streamlit.runtime.scriptrunner_utils.script_run_context: Thread 'MainThread': missing ScriptRunContext! This warning can be ignored when running in bare mode.\n"
     ]
    }
   ],
   "source": [
    "import streamlit as st\n",
    "# Initialize app state\n",
    "if 'analytics_app' not in st.session_state:\n",
    "    st.session_state.analytics_app = DataAnalyticsApp()"
   ]
  },
  {
   "cell_type": "code",
   "execution_count": 67,
   "id": "134d3cbb",
   "metadata": {},
   "outputs": [
    {
     "name": "stdout",
     "output_type": "stream",
     "text": [
      "Step 1: Compile a list of potential shoe brands\n",
      "\n",
      "Start by compiling a list of potential shoe brands that cater to workouts, are easy to fit, suitable for running, walking, and jumping, and are affordable. You can gather this information through online research, industry reports, and networking with other professionals in the fitness industry.\n",
      "\n",
      "Step 2: Analyze the market for each brand\n",
      "\n",
      "Once you have a list of potential partners, analyze the market for each brand. Look at their market share, customer base, pricing, and distribution channels. This information will help you understand the competitive landscape and identify potential opportunities for partnership.\n",
      "\n",
      "Step 3: Evaluate customer satisfaction\n",
      "\n",
      "Next, evaluate customer satisfaction for each brand. Look at customer reviews, ratings, and feedback. You can also conduct surveys or focus groups to gather more in-depth information about customer satisfaction.\n",
      "\n",
      "Step 4: Assess brand visibility and partnership opportunities\n",
      "\n",
      "Assess the brand visibility and partnership opportunities for each brand. Look at their marketing strategies, social media presence, and partnerships with other companies. This information will help you identify potential partners that can help increase brand visibility and drive sales.\n",
      "\n",
      "Step 5: Evaluate inclusion and accessibility\n",
      "\n",
      "Evaluate the inclusion and accessibility of each brand. Look at their product range, sizing options, and pricing. Ensure that the brand caters to a diverse range of customers, including different ages, sizes, and purchasing power.\n",
      "\n",
      "Step 6: Compare and contrast the brands\n",
      "\n",
      "Compare and contrast the brands based on the criteria outlined in steps 2-5. Identify the strengths and weaknesses of each brand and determine which brand is the best fit for your business and customers.\n",
      "\n",
      "Step 7: Conduct a cost-benefit analysis\n",
      "\n",
      "Conduct a cost-benefit analysis to determine the financial viability of the partnership. Look at the potential revenue, costs, and risks associated with the partnership. This information will help you make an informed decision about whether to proceed with the partnership.\n",
      "\n",
      "Step 8: Present your findings\n",
      "\n",
      "Present your findings to stakeholders, including senior management, marketing, and sales teams. Provide a clear and concise analysis of the potential partnership, including the benefits and risks.\n",
      "\n",
      "Step 9: Negotiate the partnership\n",
      "\n",
      "Negotiate the partnership with the chosen brand. This may involve discussing pricing, distribution channels, marketing strategies, and other terms of the partnership.\n",
      "\n",
      "Step 10: Monitor the partnership\n",
      "\n",
      "Monitor the partnership over time to ensure that it is meeting the objectives outlined in steps 1-5. Collect feedback from customers, track sales, and monitor brand visibility to ensure that the partnership is successful.\n"
     ]
    }
   ],
   "source": [
    "# Use the Converse API to send a text message to Titan Text G1 - Premier.\n",
    "\n",
    "import boto3\n",
    "from botocore.exceptions import ClientError\n",
    "\n",
    "# Create a Bedrock Runtime client in the AWS Region you want to use.\n",
    "client = boto3.client(\"bedrock-runtime\", region_name=\"us-east-1\")\n",
    "\n",
    "# Set the model ID, e.g., Titan Text Premier.\n",
    "model_id = \"amazon.titan-text-premier-v1:0\"\n",
    "\n",
    "# Start a conversation with the user message.\n",
    "user_message = \"\"\"You are an expert Business Analyst at a fitness company with more than 10,000 daily active users on the app and website.\n",
    "\n",
    "You are tasked to do a market research in comparing multiple brands of shoes for a potential partnership.\n",
    "\n",
    "The goal for these shoes are to be used for workouts, so they should be easy fit, good for running, walking and jumping, and be affordable for your customers. After this partnership, customers can buy the partners shoes from your website at a discounted price and create a win-win opportunity for the partner as well as for your business and customers.\n",
    "\n",
    "Tha main objective when doing this analysis is \n",
    "- Customer Satisfaction\n",
    "- Inclusion for all ages, sizes, and purchasing power\n",
    "- Brand visibiliy and partnership\n",
    "\n",
    "Help me with a step-by-step plan on how to go about doing this analysis and what research I should do to come to a conclusion.\n",
    "\n",
    "Guide me and help me think step-by-step. Explain your thought process as you work through this process. \n",
    "\"\"\"\n",
    "conversation = [\n",
    "    {\n",
    "        \"role\": \"user\",\n",
    "        \"content\": [{\"text\": user_message}],\n",
    "    }\n",
    "]\n",
    "\n",
    "try:\n",
    "    # Send the message to the model, using a basic inference configuration.\n",
    "    response = client.converse(\n",
    "        modelId=\"amazon.titan-text-premier-v1:0\",\n",
    "        messages=conversation,\n",
    "        inferenceConfig={\"maxTokens\":1024,\"stopSequences\":[],\"temperature\":0.7,\"topP\":0.9},\n",
    "        additionalModelRequestFields={}\n",
    "    )\n",
    "\n",
    "    # Extract and print the response text.\n",
    "    response_text = response[\"output\"][\"message\"][\"content\"][0][\"text\"]\n",
    "    print(response_text)\n",
    "\n",
    "except (ClientError, Exception) as e:\n",
    "    print(f\"ERROR: Can't invoke '{model_id}'. Reason: {e}\")\n",
    "    exit(1)\n"
   ]
  },
  {
   "cell_type": "markdown",
   "id": "ef0d3bbc",
   "metadata": {},
   "source": []
  }
 ],
 "metadata": {
  "availableInstances": [
   {
    "_defaultOrder": 0,
    "_isFastLaunch": true,
    "category": "General purpose",
    "gpuNum": 0,
    "hideHardwareSpecs": false,
    "memoryGiB": 4,
    "name": "ml.t3.medium",
    "vcpuNum": 2
   },
   {
    "_defaultOrder": 1,
    "_isFastLaunch": false,
    "category": "General purpose",
    "gpuNum": 0,
    "hideHardwareSpecs": false,
    "memoryGiB": 8,
    "name": "ml.t3.large",
    "vcpuNum": 2
   },
   {
    "_defaultOrder": 2,
    "_isFastLaunch": false,
    "category": "General purpose",
    "gpuNum": 0,
    "hideHardwareSpecs": false,
    "memoryGiB": 16,
    "name": "ml.t3.xlarge",
    "vcpuNum": 4
   },
   {
    "_defaultOrder": 3,
    "_isFastLaunch": false,
    "category": "General purpose",
    "gpuNum": 0,
    "hideHardwareSpecs": false,
    "memoryGiB": 32,
    "name": "ml.t3.2xlarge",
    "vcpuNum": 8
   },
   {
    "_defaultOrder": 4,
    "_isFastLaunch": true,
    "category": "General purpose",
    "gpuNum": 0,
    "hideHardwareSpecs": false,
    "memoryGiB": 8,
    "name": "ml.m5.large",
    "vcpuNum": 2
   },
   {
    "_defaultOrder": 5,
    "_isFastLaunch": false,
    "category": "General purpose",
    "gpuNum": 0,
    "hideHardwareSpecs": false,
    "memoryGiB": 16,
    "name": "ml.m5.xlarge",
    "vcpuNum": 4
   },
   {
    "_defaultOrder": 6,
    "_isFastLaunch": false,
    "category": "General purpose",
    "gpuNum": 0,
    "hideHardwareSpecs": false,
    "memoryGiB": 32,
    "name": "ml.m5.2xlarge",
    "vcpuNum": 8
   },
   {
    "_defaultOrder": 7,
    "_isFastLaunch": false,
    "category": "General purpose",
    "gpuNum": 0,
    "hideHardwareSpecs": false,
    "memoryGiB": 64,
    "name": "ml.m5.4xlarge",
    "vcpuNum": 16
   },
   {
    "_defaultOrder": 8,
    "_isFastLaunch": false,
    "category": "General purpose",
    "gpuNum": 0,
    "hideHardwareSpecs": false,
    "memoryGiB": 128,
    "name": "ml.m5.8xlarge",
    "vcpuNum": 32
   },
   {
    "_defaultOrder": 9,
    "_isFastLaunch": false,
    "category": "General purpose",
    "gpuNum": 0,
    "hideHardwareSpecs": false,
    "memoryGiB": 192,
    "name": "ml.m5.12xlarge",
    "vcpuNum": 48
   },
   {
    "_defaultOrder": 10,
    "_isFastLaunch": false,
    "category": "General purpose",
    "gpuNum": 0,
    "hideHardwareSpecs": false,
    "memoryGiB": 256,
    "name": "ml.m5.16xlarge",
    "vcpuNum": 64
   },
   {
    "_defaultOrder": 11,
    "_isFastLaunch": false,
    "category": "General purpose",
    "gpuNum": 0,
    "hideHardwareSpecs": false,
    "memoryGiB": 384,
    "name": "ml.m5.24xlarge",
    "vcpuNum": 96
   },
   {
    "_defaultOrder": 12,
    "_isFastLaunch": false,
    "category": "General purpose",
    "gpuNum": 0,
    "hideHardwareSpecs": false,
    "memoryGiB": 8,
    "name": "ml.m5d.large",
    "vcpuNum": 2
   },
   {
    "_defaultOrder": 13,
    "_isFastLaunch": false,
    "category": "General purpose",
    "gpuNum": 0,
    "hideHardwareSpecs": false,
    "memoryGiB": 16,
    "name": "ml.m5d.xlarge",
    "vcpuNum": 4
   },
   {
    "_defaultOrder": 14,
    "_isFastLaunch": false,
    "category": "General purpose",
    "gpuNum": 0,
    "hideHardwareSpecs": false,
    "memoryGiB": 32,
    "name": "ml.m5d.2xlarge",
    "vcpuNum": 8
   },
   {
    "_defaultOrder": 15,
    "_isFastLaunch": false,
    "category": "General purpose",
    "gpuNum": 0,
    "hideHardwareSpecs": false,
    "memoryGiB": 64,
    "name": "ml.m5d.4xlarge",
    "vcpuNum": 16
   },
   {
    "_defaultOrder": 16,
    "_isFastLaunch": false,
    "category": "General purpose",
    "gpuNum": 0,
    "hideHardwareSpecs": false,
    "memoryGiB": 128,
    "name": "ml.m5d.8xlarge",
    "vcpuNum": 32
   },
   {
    "_defaultOrder": 17,
    "_isFastLaunch": false,
    "category": "General purpose",
    "gpuNum": 0,
    "hideHardwareSpecs": false,
    "memoryGiB": 192,
    "name": "ml.m5d.12xlarge",
    "vcpuNum": 48
   },
   {
    "_defaultOrder": 18,
    "_isFastLaunch": false,
    "category": "General purpose",
    "gpuNum": 0,
    "hideHardwareSpecs": false,
    "memoryGiB": 256,
    "name": "ml.m5d.16xlarge",
    "vcpuNum": 64
   },
   {
    "_defaultOrder": 19,
    "_isFastLaunch": false,
    "category": "General purpose",
    "gpuNum": 0,
    "hideHardwareSpecs": false,
    "memoryGiB": 384,
    "name": "ml.m5d.24xlarge",
    "vcpuNum": 96
   },
   {
    "_defaultOrder": 20,
    "_isFastLaunch": false,
    "category": "General purpose",
    "gpuNum": 0,
    "hideHardwareSpecs": true,
    "memoryGiB": 0,
    "name": "ml.geospatial.interactive",
    "supportedImageNames": [
     "sagemaker-geospatial-v1-0"
    ],
    "vcpuNum": 0
   },
   {
    "_defaultOrder": 21,
    "_isFastLaunch": true,
    "category": "Compute optimized",
    "gpuNum": 0,
    "hideHardwareSpecs": false,
    "memoryGiB": 4,
    "name": "ml.c5.large",
    "vcpuNum": 2
   },
   {
    "_defaultOrder": 22,
    "_isFastLaunch": false,
    "category": "Compute optimized",
    "gpuNum": 0,
    "hideHardwareSpecs": false,
    "memoryGiB": 8,
    "name": "ml.c5.xlarge",
    "vcpuNum": 4
   },
   {
    "_defaultOrder": 23,
    "_isFastLaunch": false,
    "category": "Compute optimized",
    "gpuNum": 0,
    "hideHardwareSpecs": false,
    "memoryGiB": 16,
    "name": "ml.c5.2xlarge",
    "vcpuNum": 8
   },
   {
    "_defaultOrder": 24,
    "_isFastLaunch": false,
    "category": "Compute optimized",
    "gpuNum": 0,
    "hideHardwareSpecs": false,
    "memoryGiB": 32,
    "name": "ml.c5.4xlarge",
    "vcpuNum": 16
   },
   {
    "_defaultOrder": 25,
    "_isFastLaunch": false,
    "category": "Compute optimized",
    "gpuNum": 0,
    "hideHardwareSpecs": false,
    "memoryGiB": 72,
    "name": "ml.c5.9xlarge",
    "vcpuNum": 36
   },
   {
    "_defaultOrder": 26,
    "_isFastLaunch": false,
    "category": "Compute optimized",
    "gpuNum": 0,
    "hideHardwareSpecs": false,
    "memoryGiB": 96,
    "name": "ml.c5.12xlarge",
    "vcpuNum": 48
   },
   {
    "_defaultOrder": 27,
    "_isFastLaunch": false,
    "category": "Compute optimized",
    "gpuNum": 0,
    "hideHardwareSpecs": false,
    "memoryGiB": 144,
    "name": "ml.c5.18xlarge",
    "vcpuNum": 72
   },
   {
    "_defaultOrder": 28,
    "_isFastLaunch": false,
    "category": "Compute optimized",
    "gpuNum": 0,
    "hideHardwareSpecs": false,
    "memoryGiB": 192,
    "name": "ml.c5.24xlarge",
    "vcpuNum": 96
   },
   {
    "_defaultOrder": 29,
    "_isFastLaunch": true,
    "category": "Accelerated computing",
    "gpuNum": 1,
    "hideHardwareSpecs": false,
    "memoryGiB": 16,
    "name": "ml.g4dn.xlarge",
    "vcpuNum": 4
   },
   {
    "_defaultOrder": 30,
    "_isFastLaunch": false,
    "category": "Accelerated computing",
    "gpuNum": 1,
    "hideHardwareSpecs": false,
    "memoryGiB": 32,
    "name": "ml.g4dn.2xlarge",
    "vcpuNum": 8
   },
   {
    "_defaultOrder": 31,
    "_isFastLaunch": false,
    "category": "Accelerated computing",
    "gpuNum": 1,
    "hideHardwareSpecs": false,
    "memoryGiB": 64,
    "name": "ml.g4dn.4xlarge",
    "vcpuNum": 16
   },
   {
    "_defaultOrder": 32,
    "_isFastLaunch": false,
    "category": "Accelerated computing",
    "gpuNum": 1,
    "hideHardwareSpecs": false,
    "memoryGiB": 128,
    "name": "ml.g4dn.8xlarge",
    "vcpuNum": 32
   },
   {
    "_defaultOrder": 33,
    "_isFastLaunch": false,
    "category": "Accelerated computing",
    "gpuNum": 4,
    "hideHardwareSpecs": false,
    "memoryGiB": 192,
    "name": "ml.g4dn.12xlarge",
    "vcpuNum": 48
   },
   {
    "_defaultOrder": 34,
    "_isFastLaunch": false,
    "category": "Accelerated computing",
    "gpuNum": 1,
    "hideHardwareSpecs": false,
    "memoryGiB": 256,
    "name": "ml.g4dn.16xlarge",
    "vcpuNum": 64
   },
   {
    "_defaultOrder": 35,
    "_isFastLaunch": false,
    "category": "Accelerated computing",
    "gpuNum": 1,
    "hideHardwareSpecs": false,
    "memoryGiB": 61,
    "name": "ml.p3.2xlarge",
    "vcpuNum": 8
   },
   {
    "_defaultOrder": 36,
    "_isFastLaunch": false,
    "category": "Accelerated computing",
    "gpuNum": 4,
    "hideHardwareSpecs": false,
    "memoryGiB": 244,
    "name": "ml.p3.8xlarge",
    "vcpuNum": 32
   },
   {
    "_defaultOrder": 37,
    "_isFastLaunch": false,
    "category": "Accelerated computing",
    "gpuNum": 8,
    "hideHardwareSpecs": false,
    "memoryGiB": 488,
    "name": "ml.p3.16xlarge",
    "vcpuNum": 64
   },
   {
    "_defaultOrder": 38,
    "_isFastLaunch": false,
    "category": "Accelerated computing",
    "gpuNum": 8,
    "hideHardwareSpecs": false,
    "memoryGiB": 768,
    "name": "ml.p3dn.24xlarge",
    "vcpuNum": 96
   },
   {
    "_defaultOrder": 39,
    "_isFastLaunch": false,
    "category": "Memory Optimized",
    "gpuNum": 0,
    "hideHardwareSpecs": false,
    "memoryGiB": 16,
    "name": "ml.r5.large",
    "vcpuNum": 2
   },
   {
    "_defaultOrder": 40,
    "_isFastLaunch": false,
    "category": "Memory Optimized",
    "gpuNum": 0,
    "hideHardwareSpecs": false,
    "memoryGiB": 32,
    "name": "ml.r5.xlarge",
    "vcpuNum": 4
   },
   {
    "_defaultOrder": 41,
    "_isFastLaunch": false,
    "category": "Memory Optimized",
    "gpuNum": 0,
    "hideHardwareSpecs": false,
    "memoryGiB": 64,
    "name": "ml.r5.2xlarge",
    "vcpuNum": 8
   },
   {
    "_defaultOrder": 42,
    "_isFastLaunch": false,
    "category": "Memory Optimized",
    "gpuNum": 0,
    "hideHardwareSpecs": false,
    "memoryGiB": 128,
    "name": "ml.r5.4xlarge",
    "vcpuNum": 16
   },
   {
    "_defaultOrder": 43,
    "_isFastLaunch": false,
    "category": "Memory Optimized",
    "gpuNum": 0,
    "hideHardwareSpecs": false,
    "memoryGiB": 256,
    "name": "ml.r5.8xlarge",
    "vcpuNum": 32
   },
   {
    "_defaultOrder": 44,
    "_isFastLaunch": false,
    "category": "Memory Optimized",
    "gpuNum": 0,
    "hideHardwareSpecs": false,
    "memoryGiB": 384,
    "name": "ml.r5.12xlarge",
    "vcpuNum": 48
   },
   {
    "_defaultOrder": 45,
    "_isFastLaunch": false,
    "category": "Memory Optimized",
    "gpuNum": 0,
    "hideHardwareSpecs": false,
    "memoryGiB": 512,
    "name": "ml.r5.16xlarge",
    "vcpuNum": 64
   },
   {
    "_defaultOrder": 46,
    "_isFastLaunch": false,
    "category": "Memory Optimized",
    "gpuNum": 0,
    "hideHardwareSpecs": false,
    "memoryGiB": 768,
    "name": "ml.r5.24xlarge",
    "vcpuNum": 96
   },
   {
    "_defaultOrder": 47,
    "_isFastLaunch": false,
    "category": "Accelerated computing",
    "gpuNum": 1,
    "hideHardwareSpecs": false,
    "memoryGiB": 16,
    "name": "ml.g5.xlarge",
    "vcpuNum": 4
   },
   {
    "_defaultOrder": 48,
    "_isFastLaunch": false,
    "category": "Accelerated computing",
    "gpuNum": 1,
    "hideHardwareSpecs": false,
    "memoryGiB": 32,
    "name": "ml.g5.2xlarge",
    "vcpuNum": 8
   },
   {
    "_defaultOrder": 49,
    "_isFastLaunch": false,
    "category": "Accelerated computing",
    "gpuNum": 1,
    "hideHardwareSpecs": false,
    "memoryGiB": 64,
    "name": "ml.g5.4xlarge",
    "vcpuNum": 16
   },
   {
    "_defaultOrder": 50,
    "_isFastLaunch": false,
    "category": "Accelerated computing",
    "gpuNum": 1,
    "hideHardwareSpecs": false,
    "memoryGiB": 128,
    "name": "ml.g5.8xlarge",
    "vcpuNum": 32
   },
   {
    "_defaultOrder": 51,
    "_isFastLaunch": false,
    "category": "Accelerated computing",
    "gpuNum": 1,
    "hideHardwareSpecs": false,
    "memoryGiB": 256,
    "name": "ml.g5.16xlarge",
    "vcpuNum": 64
   },
   {
    "_defaultOrder": 52,
    "_isFastLaunch": false,
    "category": "Accelerated computing",
    "gpuNum": 4,
    "hideHardwareSpecs": false,
    "memoryGiB": 192,
    "name": "ml.g5.12xlarge",
    "vcpuNum": 48
   },
   {
    "_defaultOrder": 53,
    "_isFastLaunch": false,
    "category": "Accelerated computing",
    "gpuNum": 4,
    "hideHardwareSpecs": false,
    "memoryGiB": 384,
    "name": "ml.g5.24xlarge",
    "vcpuNum": 96
   },
   {
    "_defaultOrder": 54,
    "_isFastLaunch": false,
    "category": "Accelerated computing",
    "gpuNum": 8,
    "hideHardwareSpecs": false,
    "memoryGiB": 768,
    "name": "ml.g5.48xlarge",
    "vcpuNum": 192
   },
   {
    "_defaultOrder": 55,
    "_isFastLaunch": false,
    "category": "Accelerated computing",
    "gpuNum": 8,
    "hideHardwareSpecs": false,
    "memoryGiB": 1152,
    "name": "ml.p4d.24xlarge",
    "vcpuNum": 96
   },
   {
    "_defaultOrder": 56,
    "_isFastLaunch": false,
    "category": "Accelerated computing",
    "gpuNum": 8,
    "hideHardwareSpecs": false,
    "memoryGiB": 1152,
    "name": "ml.p4de.24xlarge",
    "vcpuNum": 96
   },
   {
    "_defaultOrder": 57,
    "_isFastLaunch": false,
    "category": "Accelerated computing",
    "gpuNum": 0,
    "hideHardwareSpecs": false,
    "memoryGiB": 32,
    "name": "ml.trn1.2xlarge",
    "vcpuNum": 8
   },
   {
    "_defaultOrder": 58,
    "_isFastLaunch": false,
    "category": "Accelerated computing",
    "gpuNum": 0,
    "hideHardwareSpecs": false,
    "memoryGiB": 512,
    "name": "ml.trn1.32xlarge",
    "vcpuNum": 128
   },
   {
    "_defaultOrder": 59,
    "_isFastLaunch": false,
    "category": "Accelerated computing",
    "gpuNum": 0,
    "hideHardwareSpecs": false,
    "memoryGiB": 512,
    "name": "ml.trn1n.32xlarge",
    "vcpuNum": 128
   }
  ],
  "instance_type": "ml.m5.large",
  "kernelspec": {
   "display_name": "py311",
   "language": "python",
   "name": "python3"
  },
  "language_info": {
   "codemirror_mode": {
    "name": "ipython",
    "version": 3
   },
   "file_extension": ".py",
   "mimetype": "text/x-python",
   "name": "python",
   "nbconvert_exporter": "python",
   "pygments_lexer": "ipython3",
   "version": "3.11.4"
  }
 },
 "nbformat": 4,
 "nbformat_minor": 5
}
